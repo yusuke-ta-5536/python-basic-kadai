{
  "nbformat": 4,
  "nbformat_minor": 0,
  "metadata": {
    "colab": {
      "provenance": []
    },
    "kernelspec": {
      "name": "python3",
      "display_name": "Python 3"
    },
    "language_info": {
      "name": "python"
    }
  },
  "cells": [
    {
      "cell_type": "code",
      "execution_count": 13,
      "metadata": {
        "colab": {
          "base_uri": "https://localhost:8080/"
        },
        "id": "CR97q5uyl3Qb",
        "outputId": "290f8db2-8924-48ef-a76e-bdef47d1303f"
      },
      "outputs": [
        {
          "output_type": "stream",
          "name": "stdout",
          "text": [
            "1100.0\n"
          ]
        }
      ],
      "source": [
        "# 与えられた引数$priceに消費税を加算し、その値を出力する関数を定義する\n",
        "def calculate_total(price, tax):\n",
        "  total = price + price*tax\n",
        "\n",
        "  print(total)\n",
        "\n",
        "# 関数を呼び出し、引数として購入金額と消費税率を渡す\n",
        "calculate_total(1000, 0.1)"
      ]
    }
  ]
}