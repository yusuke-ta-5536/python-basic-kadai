{
  "nbformat": 4,
  "nbformat_minor": 0,
  "metadata": {
    "colab": {
      "provenance": []
    },
    "kernelspec": {
      "name": "python3",
      "display_name": "Python 3"
    },
    "language_info": {
      "name": "python"
    }
  },
  "cells": [
    {
      "cell_type": "code",
      "execution_count": 7,
      "metadata": {
        "colab": {
          "base_uri": "https://localhost:8080/"
        },
        "id": "CR97q5uyl3Qb",
        "outputId": "05a242cf-bfbc-4e96-d1a6-9b60b8058235"
      },
      "outputs": [
        {
          "output_type": "stream",
          "name": "stdout",
          "text": [
            "1100.0\n"
          ]
        }
      ],
      "source": [
        "# 与えられた引数$priceに消費税を加算し、その戻り値を返す関数を定義する\n",
        "def calculate_total(price, tax):\n",
        "  return price + price*tax\n",
        "\n",
        "# 関数を呼び出し、引数として購入金額と消費税率を渡して出力する\n",
        "print(calculate_total(1000, 0.1))"
      ]
    }
  ]
}