{
  "nbformat": 4,
  "nbformat_minor": 0,
  "metadata": {
    "colab": {
      "provenance": []
    },
    "kernelspec": {
      "name": "python3",
      "display_name": "Python 3"
    },
    "language_info": {
      "name": "python"
    }
  },
  "cells": [
    {
      "cell_type": "code",
      "source": [],
      "metadata": {
        "id": "B_L82J7xeZK3"
      },
      "execution_count": null,
      "outputs": []
    },
    {
      "cell_type": "code",
      "execution_count": 10,
      "metadata": {
        "id": "YQflmOiRbUFj",
        "colab": {
          "base_uri": "https://localhost:8080/"
        },
        "outputId": "3dcb3997-2c15-4023-98c5-ea5be30af9ac"
      },
      "outputs": [
        {
          "output_type": "stream",
          "name": "stdout",
          "text": [
            "水\n",
            "金\n",
            "地\n",
            "火\n",
            "木\n",
            "土\n",
            "点\n",
            "海\n",
            "冥\n",
            "水\n",
            "金\n",
            "地\n",
            "火\n",
            "木\n",
            "土\n",
            "点\n",
            "海\n",
            "冥\n"
          ]
        }
      ],
      "source": [
        "array = [\"水\", \"金\", \"地\", \"火\", \"木\", \"土\", \"点\", \"海\", \"冥\"]\n",
        "\n",
        "#for文\n",
        "for star in array:\n",
        "  print(star)\n",
        "\n",
        "#while文\n",
        "i = 0\n",
        "while i < 9:\n",
        "  print(array[i])\n",
        "  i = i + 1\n",
        "\n",
        "\n"
      ]
    }
  ]
}