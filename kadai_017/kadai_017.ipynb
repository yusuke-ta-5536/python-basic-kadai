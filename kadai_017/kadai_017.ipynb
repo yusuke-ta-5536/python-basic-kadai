{
  "nbformat": 4,
  "nbformat_minor": 0,
  "metadata": {
    "colab": {
      "provenance": []
    },
    "kernelspec": {
      "name": "python3",
      "display_name": "Python 3"
    },
    "language_info": {
      "name": "python"
    }
  },
  "cells": [
    {
      "cell_type": "code",
      "source": [],
      "metadata": {
        "id": "5v9wWrika-dC"
      },
      "execution_count": null,
      "outputs": []
    },
    {
      "cell_type": "code",
      "execution_count": 12,
      "metadata": {
        "id": "6rUq2Iv6y5j3",
        "colab": {
          "base_uri": "https://localhost:8080/"
        },
        "outputId": "71c8c51a-2c1e-44b2-ee45-19949dbeca1e"
      },
      "outputs": [
        {
          "output_type": "stream",
          "name": "stdout",
          "text": [
            "侍太郎は大人です。\n",
            "侍二郎は大人です。\n",
            "侍三郎は未成年です。\n",
            "侍花子は未成年です。\n"
          ]
        }
      ],
      "source": [
        "class Human:\n",
        "  # コンストラクタを定義する\n",
        "  def __init__(self, name, age):\n",
        "    self.name = name\n",
        "    self.age = age\n",
        "  # メソッドを定義する\n",
        "  def check_adult(self):\n",
        "    if 20 <= self.age:\n",
        "      print(f\"{self.name}は大人です。\")\n",
        "    else:\n",
        "      print(f\"{self.name}は未成年です。\")\n",
        "\n",
        "# インスタンス化する\n",
        "human1 = Human(\"侍太郎\", 36)\n",
        "human2 = Human(\"侍二郎\", 48)\n",
        "human3 = Human(\"侍三郎\", 18)\n",
        "human4 = Human(\"侍花子\", 15)\n",
        "\n",
        "#リストに代入する\n",
        "humans = [human1, human2, human3, human4]\n",
        "\n",
        "#check_adultメソッドを実行する\n",
        "for human in humans:\n",
        "  human.check_adult()\n",
        "\n",
        "\n",
        "\n",
        "\n",
        "\n"
      ]
    }
  ]
}