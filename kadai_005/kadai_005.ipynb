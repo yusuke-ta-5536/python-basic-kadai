{
  "nbformat": 4,
  "nbformat_minor": 0,
  "metadata": {
    "colab": {
      "provenance": []
    },
    "kernelspec": {
      "name": "python3",
      "display_name": "Python 3"
    },
    "language_info": {
      "name": "python"
    }
  },
  "cells": [
    {
      "cell_type": "code",
      "execution_count": 5,
      "metadata": {
        "colab": {
          "base_uri": "https://localhost:8080/"
        },
        "id": "ZGFJo1S4JllP",
        "outputId": "061bcca9-42be-4d7c-829c-e32ac9d2f384"
      },
      "outputs": [
        {
          "output_type": "stream",
          "name": "stdout",
          "text": [
            "75.0㎠\n"
          ]
        }
      ],
      "source": [
        "top_side = 10\n",
        "bottom_side = 20\n",
        "height = 5\n",
        "\n",
        "total = (top_side + bottom_side) * height / 2\n",
        "\n",
        "print(f\"{total}㎠\")"
      ]
    }
  ]
}