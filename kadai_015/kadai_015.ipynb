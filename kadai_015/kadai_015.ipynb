{
  "nbformat": 4,
  "nbformat_minor": 0,
  "metadata": {
    "colab": {
      "provenance": []
    },
    "kernelspec": {
      "name": "python3",
      "display_name": "Python 3"
    },
    "language_info": {
      "name": "python"
    }
  },
  "cells": [
    {
      "cell_type": "code",
      "execution_count": 2,
      "metadata": {
        "colab": {
          "base_uri": "https://localhost:8080/"
        },
        "id": "IIdlHEFSkWTY",
        "outputId": "8196fa01-8ad3-40f6-ad84-48ca9fef18a3"
      },
      "outputs": [
        {
          "output_type": "stream",
          "name": "stdout",
          "text": [
            "侍太郎\n",
            "48\n"
          ]
        }
      ],
      "source": [
        "class Human:\n",
        "  # コンストラクタを定義する\n",
        "  def __init__(self, name, age):\n",
        "    self.name = name\n",
        "    self.age = age\n",
        "\n",
        "  # メソッドを定義する\n",
        "  def printinfo(self):\n",
        "    print(self.name)\n",
        "    print(self.age)\n",
        "\n",
        "human = Human(\"侍太郎\", 48)\n",
        "human.printinfo()\n"
      ]
    }
  ]
}